{
 "cells": [
  {
   "cell_type": "markdown",
   "id": "ec0356fa",
   "metadata": {},
   "source": [
    "## Numpy Array Operations "
   ]
  },
  {
   "cell_type": "code",
   "execution_count": 3,
   "id": "9f063b21",
   "metadata": {},
   "outputs": [],
   "source": [
    "import numpy as np"
   ]
  },
  {
   "cell_type": "code",
   "execution_count": 4,
   "id": "0d9879b7",
   "metadata": {},
   "outputs": [
    {
     "name": "stdout",
     "output_type": "stream",
     "text": [
      "Basic slicing: [2 3 4]\n",
      "Slicing with step: [1 3 5]\n",
      "Negative indices: [1 2]\n"
     ]
    }
   ],
   "source": [
    "arr = np.array([1, 2, 3, 4, 5])\n",
    "print(\"Basic slicing:\", arr[1:4])  # Output: [2 3 4]\n",
    "print(\"Slicing with step:\", arr[0:5:2])  # Output: [1 3 5]\n",
    "print(\"Negative indices:\", arr[:-3])  # Output: [3 4 5]"
   ]
  },
  {
   "cell_type": "code",
   "execution_count": 6,
   "id": "7e0ee4e8",
   "metadata": {},
   "outputs": [
    {
     "name": "stdout",
     "output_type": "stream",
     "text": [
      "Specific element: 6\n",
      "row slice: [1 2 3]\n",
      "column slice: [2 5 8]\n"
     ]
    }
   ],
   "source": [
    "arr_2d = np.array([[1, 2, 3],   #row and column start from 0\n",
    "                   [4, 5, 6], \n",
    "                   [7, 8, 9]])\n",
    "print(\"Specific element:\", arr_2d[1, 2])  # Output: 6\n",
    "print(\"row slice:\", arr_2d[0, :])  # Output: [1 2 3]\n",
    "print(\"column slice:\", arr_2d[:, 1])  # Output: [2 5 8]"
   ]
  },
  {
   "cell_type": "markdown",
   "id": "2f4b0a52",
   "metadata": {},
   "source": [
    " ## Sorting"
   ]
  },
  {
   "cell_type": "code",
   "execution_count": 18,
   "id": "3a8ef86d",
   "metadata": {},
   "outputs": [
    {
     "name": "stdout",
     "output_type": "stream",
     "text": [
      "[1 1 2 3 4 5 9]\n",
      "Sorted 2D array by column: \n",
      " [[1 1 4]\n",
      " [2 5 5]\n",
      " [3 6 9]]\n",
      "Sorted 2D array by row: \n",
      " [[1 3 4]\n",
      " [1 5 9]\n",
      " [2 5 6]]\n"
     ]
    }
   ],
   "source": [
    "unsorted = np.array([3, 1, 4, 1, 5, 9, 2])\n",
    "sorted_arr = np.sort(unsorted)\n",
    "print(sorted_arr)  # Output: [1 1 2 3 4 5 9]\n",
    "\n",
    "arr_2d_unsorted = np.array([[3, 1, 4],\n",
    "                            [1, 5, 9],  \n",
    "                            [2, 6, 5]])\n",
    "sorted_2d = np.sort(arr_2d_unsorted, axis=0)  # Sort each column\n",
    "print(\"Sorted 2D array by column: \\n\" ,sorted_2d)\n",
    "\n",
    "sorted_2d = np.sort(arr_2d_unsorted, axis=1)  # Sort each row   \n",
    "print(\"Sorted 2D array by row: \\n\", sorted_2d)"
   ]
  },
  {
   "cell_type": "markdown",
   "id": "a4f30708",
   "metadata": {},
   "source": [
    "## Filter"
   ]
  },
  {
   "cell_type": "code",
   "execution_count": null,
   "id": "65b62499",
   "metadata": {},
   "outputs": [
    {
     "name": "stdout",
     "output_type": "stream",
     "text": [
      "[ 2  4  6  8 10]\n",
      "[ 2  4  6  8 10]\n"
     ]
    }
   ],
   "source": [
    "number = np.array([1, 2, 3, 4, 5, 6, 7, 8, 9, 10])\n",
    "even_numbers = number[number % 2 == 0]\n",
    "print(even_numbers)  # Output: [ 2  4  6 \n",
    "\n",
    "#with mask\n",
    "mask = number % 2 == 0\n",
    "print(number[mask])\n",
    "\n",
    "   "
   ]
  },
  {
   "cell_type": "markdown",
   "id": "e4b7a44f",
   "metadata": {},
   "source": [
    "## Filter With Mask"
   ]
  },
  {
   "cell_type": "code",
   "execution_count": null,
   "id": "e5c1fab9",
   "metadata": {},
   "outputs": [
    {
     "name": "stdout",
     "output_type": "stream",
     "text": [
      "Numbers greater than 5 : [ 6  7  8  9 10]\n"
     ]
    }
   ],
   "source": [
    "mask = number > 5\n",
    " \n",
    "print(\"Numbers greater than 5 :\",number[mask])  # Output: [ 6  7  8 9 10]"
   ]
  },
  {
   "cell_type": "markdown",
   "id": "a90244df",
   "metadata": {},
   "source": [
    "## Fancy indexing vs np.where()"
   ]
  },
  {
   "cell_type": "code",
   "execution_count": null,
   "id": "976cb095",
   "metadata": {},
   "outputs": [
    {
     "name": "stdout",
     "output_type": "stream",
     "text": [
      "Fancy indexing: [1 3 5]\n",
      "(array([5, 6, 7, 8, 9]),)\n",
      "np.where() result: [ 6  7  8  9 10]\n"
     ]
    }
   ],
   "source": [
    "indices = [0, 2, 4]\n",
    "print(\"Fancy indexing:\", number[indices])  # Output: [1 3 5]\n",
    "\n",
    "\n",
    "where_result = np.where(number > 5)# giving index\n",
    "print(where_result)\n",
    "print(\"np.where() result:\", number[where_result])  # Output: [ 6  7  8 9 10] , giving value"
   ]
  },
  {
   "cell_type": "code",
   "execution_count": 31,
   "id": "43c384d8",
   "metadata": {},
   "outputs": [
    {
     "name": "stdout",
     "output_type": "stream",
     "text": [
      "Condition array: [False False False False False  True  True  True  True  True]\n"
     ]
    }
   ],
   "source": [
    "condition_array = np.where(number > 5 , True, False)\n",
    "print(\"Condition array:\", condition_array)  "
   ]
  },
  {
   "cell_type": "markdown",
   "id": "bdb82e57",
   "metadata": {},
   "source": [
    "## Adding and Removing data"
   ]
  },
  {
   "cell_type": "code",
   "execution_count": 35,
   "id": "a668a3bf",
   "metadata": {},
   "outputs": [
    {
     "name": "stdout",
     "output_type": "stream",
     "text": [
      "Combined array: [5 7 9]\n",
      "Concatenated array: [1 2 3 4 5 6]\n"
     ]
    }
   ],
   "source": [
    "arr1 = np.array([1, 2, 3])\n",
    "arr2 = np.array([4, 5, 6])\n",
    "\n",
    "combined = arr1 + arr2\n",
    "print(\"Combined array:\", combined)  # Output: [5 7 9]\n",
    "\n",
    "concatenated = np.concatenate((arr1, arr2))\n",
    "print(\"Concatenated array:\", concatenated)  # Output: [1 2 3 4 5 6]"
   ]
  },
  {
   "cell_type": "markdown",
   "id": "0db8eeab",
   "metadata": {},
   "source": [
    "## array compatibility"
   ]
  },
  {
   "cell_type": "code",
   "execution_count": 39,
   "id": "8b939a7d",
   "metadata": {},
   "outputs": [
    {
     "name": "stdout",
     "output_type": "stream",
     "text": [
      "Compatibility check a and b: True\n",
      "Compatibility check a and c: True\n"
     ]
    }
   ],
   "source": [
    "a = np.array([1, 2, 3])\n",
    "b = np.array([4, 5, 6]) \n",
    "c = np.array([7, 8, 9])\n",
    "\n",
    "print(\"Compatibility check a and b:\", a.shape == b.shape)  # Output: True\n",
    "print(\"Compatibility check a and c:\", a.shape == c.shape)  # Output: True "
   ]
  },
  {
   "cell_type": "code",
   "execution_count": 47,
   "id": "f5d18501",
   "metadata": {},
   "outputs": [
    {
     "name": "stdout",
     "output_type": "stream",
     "text": [
      "[[1 2]\n",
      " [3 4]]\n",
      "Array after adding new row:\n",
      " [[1 2]\n",
      " [3 4]\n",
      " [5 6]]\n",
      "Array after adding new column:\n",
      " [[1 2 7]\n",
      " [3 4 8]\n",
      " [5 6 9]]\n"
     ]
    }
   ],
   "source": [
    "original = np.array([[1, 2] , [3,4]])\n",
    "\n",
    "new_row = np.array([[5, 6]])\n",
    "with_new_row = np.vstack([original, new_row])\n",
    "print(original)\n",
    "print(\"Array after adding new row:\\n\", with_new_row)\n",
    "\n",
    "new_column = np.array([[7], [8], [9]])\n",
    "with_new_column = np.hstack([with_new_row, new_column])\n",
    "print(\"Array after adding new column:\\n\", with_new_column)"
   ]
  },
  {
   "cell_type": "code",
   "execution_count": 48,
   "id": "18454b2a",
   "metadata": {},
   "outputs": [
    {
     "name": "stdout",
     "output_type": "stream",
     "text": [
      "Array after deletion: [1 3]\n"
     ]
    }
   ],
   "source": [
    "arr = np.array([1, 2, 3])\n",
    "deleted = np.delete(arr, 1)  # Remove element at index 1\n",
    "print(\"Array after deletion:\", deleted)  # Output: [1 3]"
   ]
  }
 ],
 "metadata": {
  "kernelspec": {
   "display_name": ".venv",
   "language": "python",
   "name": "python3"
  },
  "language_info": {
   "codemirror_mode": {
    "name": "ipython",
    "version": 3
   },
   "file_extension": ".py",
   "mimetype": "text/x-python",
   "name": "python",
   "nbconvert_exporter": "python",
   "pygments_lexer": "ipython3",
   "version": "3.13.7"
  }
 },
 "nbformat": 4,
 "nbformat_minor": 5
}
