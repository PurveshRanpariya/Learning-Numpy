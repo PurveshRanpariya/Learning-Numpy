{
 "cells": [
  {
   "cell_type": "markdown",
   "id": "5a2c7b38",
   "metadata": {},
   "source": [
    "## Numpy array and basics\n",
    "learn about Numpy with chaiaurcode"
   ]
  },
  {
   "cell_type": "code",
   "execution_count": 8,
   "id": "23465af7",
   "metadata": {},
   "outputs": [],
   "source": [
    "import numpy as np"
   ]
  },
  {
   "cell_type": "markdown",
   "id": "5e16158c",
   "metadata": {},
   "source": [
    "create array from list"
   ]
  },
  {
   "cell_type": "code",
   "execution_count": 9,
   "id": "5305dae9",
   "metadata": {},
   "outputs": [
    {
     "name": "stdout",
     "output_type": "stream",
     "text": [
      "1D array:  [1 2 3 4]\n",
      "2D array:  [[1 2 3]\n",
      " [4 5 6]]\n"
     ]
    }
   ],
   "source": [
    "arr_1d = np.array([1,2,3,4])\n",
    "print(\"1D array: \", arr_1d)\n",
    "\n",
    "arr_2d = np.array([[1,2,3],[4,5,6]])\n",
    "print(\"2D array: \", arr_2d)"
   ]
  },
  {
   "cell_type": "markdown",
   "id": "cc75d109",
   "metadata": {},
   "source": [
    "### List vs numpy array\n"
   ]
  },
  {
   "cell_type": "code",
   "execution_count": 15,
   "id": "5df3aae2",
   "metadata": {},
   "outputs": [
    {
     "name": "stdout",
     "output_type": "stream",
     "text": [
      "Python list multiply by 2:  [1, 2, 3, 4, 1, 2, 3, 4]\n",
      "NumPy array multiply by 2:  [2 4 6 8]\n",
      "\n",
      " Time taken by Python list:  0.21927642822265625\n",
      "\n",
      " Time taken by NumPy array:  0.2296452522277832\n"
     ]
    }
   ],
   "source": [
    "py_list = [1,2,3,4]\n",
    "print(\"Python list multiply by 2: \", py_list * 2)\n",
    "\n",
    "np_array = np.array([1,2,3,4])#element wise multiplication\n",
    "print(\"NumPy array multiply by 2: \", np_array * 2)\n",
    "\n",
    "import time\n",
    "start = time.time()\n",
    "py_list = [i*2 for i in range(1000000)]\n",
    "print(\"\\n Time taken by Python list: \", time.time() - start)\n",
    "\n",
    "strart = time.time()\n",
    "np_array = np.arange(1000000) * 2\n",
    "print(\"\\n Time taken by NumPy array: \", time.time() - start)"
   ]
  },
  {
   "cell_type": "markdown",
   "id": "4c3f0daf",
   "metadata": {},
   "source": [
    "### creating array from scratch "
   ]
  },
  {
   "cell_type": "code",
   "execution_count": 20,
   "id": "680b0440",
   "metadata": {},
   "outputs": [
    {
     "name": "stdout",
     "output_type": "stream",
     "text": [
      "\n",
      " Array of zeros: \n",
      " [[0. 0. 0. 0.]\n",
      " [0. 0. 0. 0.]\n",
      " [0. 0. 0. 0.]]\n",
      "\n",
      " Array of ones: \n",
      " [[1. 1. 1.]\n",
      " [1. 1. 1.]]\n",
      "\n",
      " Array of 7s: \n",
      " [[7 7 7]\n",
      " [7 7 7]\n",
      " [7 7 7]]\n",
      "\n",
      " Array of random numbers: \n",
      " [[0.41004709 0.20647342 0.01288125]\n",
      " [0.14797639 0.95365676 0.52484791]]\n",
      "\n",
      " Array with a sequence of numbers: \n",
      " [10 12 14 16 18 20]\n"
     ]
    }
   ],
   "source": [
    "zeros = np.zeros((3,4))\n",
    "print(\"\\n Array of zeros: \\n\", zeros)\n",
    "\n",
    "ones = np.ones((2,3))\n",
    "print(\"\\n Array of ones: \\n\", ones)\n",
    "\n",
    "full = np.full((3,3), 7)\n",
    "print(\"\\n Array of 7s: \\n\", full)\n",
    "\n",
    "random = np.random.random((2,3))\n",
    "print(\"\\n Array of random numbers: \\n\", random)\n",
    "\n",
    "sequence = np.arange(10, 21, 2)\n",
    "print(\"\\n Array with a sequence of numbers: \\n\", sequence)"
   ]
  },
  {
   "cell_type": "markdown",
   "id": "766ab0f9",
   "metadata": {},
   "source": [
    "### Vector, Matrix and Tensor}"
   ]
  },
  {
   "cell_type": "code",
   "execution_count": 25,
   "id": "c0546d87",
   "metadata": {},
   "outputs": [
    {
     "name": "stdout",
     "output_type": "stream",
     "text": [
      "\n",
      " Vector: \n",
      " [1 2 3]\n",
      "\n",
      " Matrix: \n",
      " [[1 2 3]\n",
      " [4 5 6]\n",
      " [7 8 9]]\n",
      "\n",
      " Tensor: \n",
      " [[[1 2]\n",
      "  [3 4]]\n",
      "\n",
      " [[5 6]\n",
      "  [7 8]]]\n"
     ]
    }
   ],
   "source": [
    "vector = np.array([1,2,3])\n",
    "print(\"\\n Vector: \\n\", vector)\n",
    "\n",
    "matrix = np.array([\n",
    "                   [1,2,3],\n",
    "                   [4,5,6],\n",
    "                   [7,8,9] \n",
    "                   ])\n",
    "print(\"\\n Matrix: \\n\", matrix)\n",
    "\n",
    "tensor = np.array([[[1,2],[3,4]],\n",
    "                   [[5,6],[7,8]]])\n",
    "print(\"\\n Tensor: \\n\", tensor)"
   ]
  },
  {
   "cell_type": "markdown",
   "id": "4fa8abc9",
   "metadata": {},
   "source": [
    "### Array Properties"
   ]
  },
  {
   "cell_type": "code",
   "execution_count": 26,
   "id": "32dcde4f",
   "metadata": {},
   "outputs": [
    {
     "name": "stdout",
     "output_type": "stream",
     "text": [
      "Shape of array:  (2, 3)\n",
      "Dimation of array:  2\n",
      "size:  6\n",
      "Dtype:  int64\n"
     ]
    }
   ],
   "source": [
    "arr = np.array([[1,2,3],\n",
    "                [4,5,6]])\n",
    "print(\"Shape of array: \", arr.shape)\n",
    "print(\"Dimation of array: \", arr.ndim)\n",
    "print(\"size: \", arr.size)\n",
    "print(\"Dtype: \", arr.dtype)"
   ]
  },
  {
   "cell_type": "markdown",
   "id": "438fe0fe",
   "metadata": {},
   "source": [
    "### Array Reshaping\n"
   ]
  },
  {
   "cell_type": "code",
   "execution_count": 35,
   "id": "25dc3f5b",
   "metadata": {},
   "outputs": [
    {
     "name": "stdout",
     "output_type": "stream",
     "text": [
      "Original array:  [ 0  1  2  3  4  5  6  7  8  9 10 11]\n",
      "Reshaped array (3x4): \n",
      " [[ 0  1  2  3]\n",
      " [ 4  5  6  7]\n",
      " [ 8  9 10 11]]\n",
      "Flattended array:  [ 0  1  2  3  4  5  6  7  8  9 10 11]\n",
      "Raveled array:  [ 0  1  2  3  4  5  6  7  8  9 10 11]\n",
      "Transposed array: \n",
      " [[ 0  4  8]\n",
      " [ 1  5  9]\n",
      " [ 2  6 10]\n",
      " [ 3  7 11]]\n"
     ]
    }
   ],
   "source": [
    "arr = np.arange(12)\n",
    "print(\"Original array: \", arr)\n",
    "\n",
    "reshaped = arr.reshape((3,4))\n",
    "print(\"Reshaped array (3x4): \\n\", reshaped)\n",
    "\n",
    "flattended = reshaped.flatten()\n",
    "print(\"Flattended array: \", flattended)\n",
    "\n",
    "# ravel is similar to flatten but it returns a view if possible, instead of a copy\n",
    "reveled = reshaped.ravel()\n",
    "print(\"Raveled array: \", reveled)\n",
    "\n",
    "# Transpose\n",
    "transposed = reshaped.T\n",
    "print(\"Transposed array: \\n\", transposed)\n",
    "\n"
   ]
  }
 ],
 "metadata": {
  "kernelspec": {
   "display_name": ".venv",
   "language": "python",
   "name": "python3"
  },
  "language_info": {
   "codemirror_mode": {
    "name": "ipython",
    "version": 3
   },
   "file_extension": ".py",
   "mimetype": "text/x-python",
   "name": "python",
   "nbconvert_exporter": "python",
   "pygments_lexer": "ipython3",
   "version": "3.13.7"
  }
 },
 "nbformat": 4,
 "nbformat_minor": 5
}
